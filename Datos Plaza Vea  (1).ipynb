{
 "cells": [
  {
   "cell_type": "code",
   "execution_count": 7,
   "id": "9313c3bf",
   "metadata": {},
   "outputs": [],
   "source": [
    "import requests\n",
    "from bs4 import BeautifulSoup \n",
    "import pandas as pd"
   ]
  },
  {
   "cell_type": "code",
   "execution_count": 8,
   "id": "5a8dc9c1",
   "metadata": {},
   "outputs": [],
   "source": [
    "r = requests.get('https://www.plazavea.com.pe/abarrotes/')\n"
   ]
  },
  {
   "cell_type": "code",
   "execution_count": 9,
   "id": "443f4a63",
   "metadata": {},
   "outputs": [],
   "source": [
    "soup = BeautifulSoup(r.content,'html.parser')"
   ]
  },
  {
   "cell_type": "code",
   "execution_count": 10,
   "id": "336c30a3",
   "metadata": {},
   "outputs": [],
   "source": [
    "titulos = soup.find_all('a',{\"class\":\"Showcase__name\"})\n"
   ]
  },
  {
   "cell_type": "code",
   "execution_count": 11,
   "id": "2bb07272",
   "metadata": {},
   "outputs": [],
   "source": [
    "titulos = [i.text for i in titulos]"
   ]
  },
  {
   "cell_type": "code",
   "execution_count": 187,
   "id": "4636391c",
   "metadata": {},
   "outputs": [
    {
     "data": {
      "text/plain": [
       "['Aceite Vegetal PRIMOR Premium Botella 1L',\n",
       " \"Azúcar Rubia BELL'S Bolsa 4Kg\",\n",
       " 'Fideo Spaghetti DON VITTORIO Bolsa 950g',\n",
       " \"Aceite Vegetal BELL'S Botella 900ml\",\n",
       " 'Aceite de Soya SAO Botella 900ml',\n",
       " 'Aceite Vegetal PRIMOR Premium Botella 900ml',\n",
       " \"Azúcar Rubia BELL'S Selección Bolsa 5Kg\",\n",
       " \"Lenteja Bebé BELL'S Bolsa 500g\",\n",
       " \"Aceite Vegetal BELL'S Galonera 5L\",\n",
       " \"Frijol Canario BELL'S Bolsa 500g\",\n",
       " 'Arroz Extra Añejo FARAON Naranja Bolsa 5kg',\n",
       " 'Sal Marina EMSAL Mesa Bolsa 1Kg',\n",
       " 'Trozos de Atún PRIMOR en Aceite Vegetal Lata 170g',\n",
       " 'Arroz Superior PAISANA Bolsa 5Kg',\n",
       " 'Mayonesa ALACENA Doypack 950g',\n",
       " 'Galleta Vainilla FIELD Paquete 6un',\n",
       " 'Galletas de Soda SAN JORGE Paquete 7un',\n",
       " 'Galletas MOROCHAS Bañadas con Pasta Sabor a Chocolate Paquete 6un',\n",
       " 'Arroz Extra COSTEÑO Bolsa 5Kg',\n",
       " 'Fideos Spaghetti NICOLINI Bolsa 950g']"
      ]
     },
     "execution_count": 187,
     "metadata": {},
     "output_type": "execute_result"
    }
   ],
   "source": [
    "titulos \n"
   ]
  },
  {
   "cell_type": "code",
   "execution_count": 188,
   "id": "c3b82264",
   "metadata": {},
   "outputs": [],
   "source": [
    "urls = soup.find_all('a',{\"class\":\"Showcase__link\"})"
   ]
  },
  {
   "cell_type": "code",
   "execution_count": 189,
   "id": "12a50493",
   "metadata": {},
   "outputs": [],
   "source": [
    "urls = [i.get('href') for i in urls]"
   ]
  },
  {
   "cell_type": "code",
   "execution_count": 237,
   "id": "d9496a5f",
   "metadata": {},
   "outputs": [],
   "source": [
    "result = [] \n",
    "for i in urls : \n",
    "    if i not in result: \n",
    "        result.append(i)"
   ]
  },
  {
   "cell_type": "code",
   "execution_count": 238,
   "id": "5c80667c",
   "metadata": {},
   "outputs": [
    {
     "data": {
      "text/plain": [
       "['https://www.plazavea.com.pe/arroz-extra-faraon-bolsa-5kg/p',\n",
       " 'https://www.plazavea.com.pe/arroz-superior-paisana-bolsa-5kg/p',\n",
       " 'https://www.plazavea.com.pe/arroz-extra-costeno-bolsa-5kg/p',\n",
       " 'https://www.plazavea.com.pe/arroz-extra-paisana-bolsa-5kg/p',\n",
       " 'https://www.plazavea.com.pe/arroz-extra-bell-s-bolsa-5kg/p',\n",
       " 'https://www.plazavea.com.pe/arroz-extra-vallenorte-bolsa-5kg/p',\n",
       " 'https://www.plazavea.com.pe/arroz-extra-gran-chalan-bolsa-5kg/p',\n",
       " 'https://www.plazavea.com.pe/arroz-superior-faraon-bolsa-5kg/p',\n",
       " 'https://www.plazavea.com.pe/arroz-superior-bells-bolas-5kg/p',\n",
       " 'https://www.plazavea.com.pe/arroz-extra-costeno-bolsa-750g/p',\n",
       " 'https://www.plazavea.com.pe/arroz-extra-vallenorte-gran-reserva-bolsa-750g/p',\n",
       " 'https://www.plazavea.com.pe/arroz-integral-vallenorte-bolsa-750g/p',\n",
       " 'https://www.plazavea.com.pe/arroz-integral-bells-bolsa-5kg/p',\n",
       " 'https://www.plazavea.com.pe/arroz-extra-faraon-azul-bolsa-5kg/p',\n",
       " 'https://www.plazavea.com.pe/arroz-superior-gran-chalan-bolsa-5kg/p',\n",
       " 'https://www.plazavea.com.pe/arroz-extra-faraon-bolsa-750g/p',\n",
       " 'https://www.plazavea.com.pe/arroz-superior-vallenorte-bolsa-5kg/p',\n",
       " 'https://www.plazavea.com.pe/arroz-superior-costeno-bolsa-750g/p',\n",
       " 'https://www.plazavea.com.pe/arroz-extra-bells-bolsa-750g/p',\n",
       " 'https://www.plazavea.com.pe/arroz-superior-costeno-bolsa-5kg/p']"
      ]
     },
     "execution_count": 238,
     "metadata": {},
     "output_type": "execute_result"
    }
   ],
   "source": [
    "result"
   ]
  },
  {
   "cell_type": "code",
   "execution_count": 15,
   "id": "19315d7b",
   "metadata": {},
   "outputs": [
    {
     "name": "stdout",
     "output_type": "stream",
     "text": [
      "['11.50', '16.70', '5.10', '8.10', '8.90', '11.50', '23.00', '3.60', '42.50', '6.09', '23.59', '2.20', '5.99', '19.50', '18.50', '4.19', '3.60', '4.60', '23.50', '4.00']\n"
     ]
    }
   ],
   "source": [
    "precios = []\n",
    "for div in soup.find_all(\"div\", { \"class\": \"Showcase__priceBox__amount\" }):\n",
    "    inner_div = div.find(\"div\", { \"class\": \"Showcase__salePrice\" })\n",
    "    precios.append(inner_div.text.strip()[3:])\n",
    "\n",
    "print(precios)"
   ]
  },
  {
   "cell_type": "code",
   "execution_count": null,
   "id": "4d8160b1",
   "metadata": {},
   "outputs": [],
   "source": [
    "#tags = soup.find_all('span',{'class':'product-prices__value product-prices__value--best-price'})\n",
    "#precios=list()\n",
    "#for tag in tags:\n",
    "#    precios.append(tag.contents[0])"
   ]
  },
  {
   "cell_type": "code",
   "execution_count": 16,
   "id": "b5508e53",
   "metadata": {},
   "outputs": [],
   "source": [
    "df = pd.DataFrame({\"titulo\":titulos,\"precios\":precios})"
   ]
  },
  {
   "cell_type": "code",
   "execution_count": 17,
   "id": "3ba78ab2",
   "metadata": {},
   "outputs": [
    {
     "data": {
      "text/html": [
       "<div>\n",
       "<style scoped>\n",
       "    .dataframe tbody tr th:only-of-type {\n",
       "        vertical-align: middle;\n",
       "    }\n",
       "\n",
       "    .dataframe tbody tr th {\n",
       "        vertical-align: top;\n",
       "    }\n",
       "\n",
       "    .dataframe thead th {\n",
       "        text-align: right;\n",
       "    }\n",
       "</style>\n",
       "<table border=\"1\" class=\"dataframe\">\n",
       "  <thead>\n",
       "    <tr style=\"text-align: right;\">\n",
       "      <th></th>\n",
       "      <th>titulo</th>\n",
       "      <th>precios</th>\n",
       "    </tr>\n",
       "  </thead>\n",
       "  <tbody>\n",
       "    <tr>\n",
       "      <th>0</th>\n",
       "      <td>Aceite Vegetal PRIMOR Premium Botella 1L</td>\n",
       "      <td>11.50</td>\n",
       "    </tr>\n",
       "    <tr>\n",
       "      <th>1</th>\n",
       "      <td>Azúcar Rubia BELL'S Bolsa 4Kg</td>\n",
       "      <td>16.70</td>\n",
       "    </tr>\n",
       "    <tr>\n",
       "      <th>2</th>\n",
       "      <td>Fideo Spaghetti DON VITTORIO Bolsa 950g</td>\n",
       "      <td>5.10</td>\n",
       "    </tr>\n",
       "    <tr>\n",
       "      <th>3</th>\n",
       "      <td>Aceite Vegetal BELL'S Botella 900ml</td>\n",
       "      <td>8.10</td>\n",
       "    </tr>\n",
       "    <tr>\n",
       "      <th>4</th>\n",
       "      <td>Aceite de Soya SAO Botella 900ml</td>\n",
       "      <td>8.90</td>\n",
       "    </tr>\n",
       "    <tr>\n",
       "      <th>5</th>\n",
       "      <td>Aceite Vegetal PRIMOR Premium Botella 900ml</td>\n",
       "      <td>11.50</td>\n",
       "    </tr>\n",
       "    <tr>\n",
       "      <th>6</th>\n",
       "      <td>Azúcar Rubia BELL'S Selección Bolsa 5Kg</td>\n",
       "      <td>23.00</td>\n",
       "    </tr>\n",
       "    <tr>\n",
       "      <th>7</th>\n",
       "      <td>Lenteja Bebé BELL'S Bolsa 500g</td>\n",
       "      <td>3.60</td>\n",
       "    </tr>\n",
       "    <tr>\n",
       "      <th>8</th>\n",
       "      <td>Aceite Vegetal BELL'S Galonera 5L</td>\n",
       "      <td>42.50</td>\n",
       "    </tr>\n",
       "    <tr>\n",
       "      <th>9</th>\n",
       "      <td>Frijol Canario BELL'S Bolsa 500g</td>\n",
       "      <td>6.09</td>\n",
       "    </tr>\n",
       "    <tr>\n",
       "      <th>10</th>\n",
       "      <td>Arroz Extra Añejo FARAON Naranja Bolsa 5kg</td>\n",
       "      <td>23.59</td>\n",
       "    </tr>\n",
       "    <tr>\n",
       "      <th>11</th>\n",
       "      <td>Sal Marina EMSAL Mesa Bolsa 1Kg</td>\n",
       "      <td>2.20</td>\n",
       "    </tr>\n",
       "    <tr>\n",
       "      <th>12</th>\n",
       "      <td>Trozos de Atún PRIMOR en Aceite Vegetal Lata 170g</td>\n",
       "      <td>5.99</td>\n",
       "    </tr>\n",
       "    <tr>\n",
       "      <th>13</th>\n",
       "      <td>Arroz Superior PAISANA Bolsa 5Kg</td>\n",
       "      <td>19.50</td>\n",
       "    </tr>\n",
       "    <tr>\n",
       "      <th>14</th>\n",
       "      <td>Mayonesa ALACENA Doypack 950g</td>\n",
       "      <td>18.50</td>\n",
       "    </tr>\n",
       "    <tr>\n",
       "      <th>15</th>\n",
       "      <td>Galleta Vainilla FIELD Paquete 6un</td>\n",
       "      <td>4.19</td>\n",
       "    </tr>\n",
       "    <tr>\n",
       "      <th>16</th>\n",
       "      <td>Galletas de Soda SAN JORGE Paquete 7un</td>\n",
       "      <td>3.60</td>\n",
       "    </tr>\n",
       "    <tr>\n",
       "      <th>17</th>\n",
       "      <td>Galletas MOROCHAS Bañadas con Pasta Sabor a Ch...</td>\n",
       "      <td>4.60</td>\n",
       "    </tr>\n",
       "    <tr>\n",
       "      <th>18</th>\n",
       "      <td>Arroz Extra COSTEÑO Bolsa 5Kg</td>\n",
       "      <td>23.50</td>\n",
       "    </tr>\n",
       "    <tr>\n",
       "      <th>19</th>\n",
       "      <td>Fideos Spaghetti NICOLINI Bolsa 950g</td>\n",
       "      <td>4.00</td>\n",
       "    </tr>\n",
       "  </tbody>\n",
       "</table>\n",
       "</div>"
      ],
      "text/plain": [
       "                                               titulo precios\n",
       "0            Aceite Vegetal PRIMOR Premium Botella 1L   11.50\n",
       "1                       Azúcar Rubia BELL'S Bolsa 4Kg   16.70\n",
       "2             Fideo Spaghetti DON VITTORIO Bolsa 950g    5.10\n",
       "3                 Aceite Vegetal BELL'S Botella 900ml    8.10\n",
       "4                    Aceite de Soya SAO Botella 900ml    8.90\n",
       "5         Aceite Vegetal PRIMOR Premium Botella 900ml   11.50\n",
       "6             Azúcar Rubia BELL'S Selección Bolsa 5Kg   23.00\n",
       "7                      Lenteja Bebé BELL'S Bolsa 500g    3.60\n",
       "8                   Aceite Vegetal BELL'S Galonera 5L   42.50\n",
       "9                    Frijol Canario BELL'S Bolsa 500g    6.09\n",
       "10         Arroz Extra Añejo FARAON Naranja Bolsa 5kg   23.59\n",
       "11                    Sal Marina EMSAL Mesa Bolsa 1Kg    2.20\n",
       "12  Trozos de Atún PRIMOR en Aceite Vegetal Lata 170g    5.99\n",
       "13                   Arroz Superior PAISANA Bolsa 5Kg   19.50\n",
       "14                      Mayonesa ALACENA Doypack 950g   18.50\n",
       "15                 Galleta Vainilla FIELD Paquete 6un    4.19\n",
       "16             Galletas de Soda SAN JORGE Paquete 7un    3.60\n",
       "17  Galletas MOROCHAS Bañadas con Pasta Sabor a Ch...    4.60\n",
       "18                      Arroz Extra COSTEÑO Bolsa 5Kg   23.50\n",
       "19               Fideos Spaghetti NICOLINI Bolsa 950g    4.00"
      ]
     },
     "execution_count": 17,
     "metadata": {},
     "output_type": "execute_result"
    }
   ],
   "source": [
    "df"
   ]
  }
 ],
 "metadata": {
  "kernelspec": {
   "display_name": "Python 3 (ipykernel)",
   "language": "python",
   "name": "python3"
  },
  "language_info": {
   "codemirror_mode": {
    "name": "ipython",
    "version": 3
   },
   "file_extension": ".py",
   "mimetype": "text/x-python",
   "name": "python",
   "nbconvert_exporter": "python",
   "pygments_lexer": "ipython3",
   "version": "3.9.7"
  }
 },
 "nbformat": 4,
 "nbformat_minor": 5
}
